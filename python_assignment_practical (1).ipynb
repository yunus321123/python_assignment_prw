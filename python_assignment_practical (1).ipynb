{
  "cells": [
    {
      "cell_type": "markdown",
      "id": "c2c70f95",
      "metadata": {
        "id": "c2c70f95"
      },
      "source": [
        "**1. Write a Python program to print 'Hello, World!'**"
      ]
    },
    {
      "cell_type": "code",
      "execution_count": null,
      "id": "fcd5ea4a",
      "metadata": {
        "id": "fcd5ea4a"
      },
      "outputs": [],
      "source": [
        "print(\"Hello, World!\")"
      ]
    },
    {
      "cell_type": "markdown",
      "id": "185269d5",
      "metadata": {
        "id": "185269d5"
      },
      "source": [
        "**2. Write a Python program that displays your name and age**"
      ]
    },
    {
      "cell_type": "code",
      "execution_count": null,
      "id": "69bac901",
      "metadata": {
        "id": "69bac901"
      },
      "outputs": [],
      "source": [
        "name = \"Yunus\"\n",
        "age = 22\n",
        "print(\"My name is\", name, \"and I am\", age, \"years old.\")"
      ]
    },
    {
      "cell_type": "markdown",
      "id": "05fd20ff",
      "metadata": {
        "id": "05fd20ff"
      },
      "source": [
        "**3. Write code to print all the pre-defined keywords in Python using the keyword library**"
      ]
    },
    {
      "cell_type": "code",
      "execution_count": null,
      "id": "91bba43d",
      "metadata": {
        "id": "91bba43d"
      },
      "outputs": [],
      "source": [
        "import keyword\n",
        "print(keyword.kwlist)"
      ]
    },
    {
      "cell_type": "markdown",
      "id": "628b4050",
      "metadata": {
        "id": "628b4050"
      },
      "source": [
        "**4. Write a program that checks if a given word is a Python keyword.**"
      ]
    },
    {
      "cell_type": "code",
      "execution_count": null,
      "id": "dcb140b0",
      "metadata": {
        "id": "dcb140b0"
      },
      "outputs": [],
      "source": [
        "import keyword\n",
        "word = input(\"Enter a word: \")\n",
        "if keyword.iskeyword(word):\n",
        "    print(word, \"is a Python keyword\")\n",
        "else:\n",
        "    print(word, \"is not a Python keyword\")"
      ]
    },
    {
      "cell_type": "markdown",
      "id": "21183fc2",
      "metadata": {
        "id": "21183fc2"
      },
      "source": [
        "**5. Write a function to demonstrate the behavior of mutable and immutable arguments.**"
      ]
    },
    {
      "cell_type": "code",
      "execution_count": null,
      "id": "81146e33",
      "metadata": {
        "id": "81146e33"
      },
      "outputs": [],
      "source": [
        "def modify_list(mylist):\n",
        "    mylist.append(100)  # list is mutable\n",
        "\n",
        "def modify_number(num):\n",
        "    num += 10  # int is immutable\n",
        "    return num\n",
        "\n",
        "lst = [1, 2, 3]\n",
        "num = 5\n",
        "\n",
        "modify_list(lst)\n",
        "print(\"List after modification:\", lst)\n",
        "\n",
        "new_num = modify_number(num)\n",
        "print(\"Number after modification:\", new_num)\n",
        "print(\"Original number remains:\", num)"
      ]
    },
    {
      "cell_type": "markdown",
      "id": "11a7e776",
      "metadata": {
        "id": "11a7e776"
      },
      "source": [
        "**6. Write a program that performs basic arithmetic operations on two user-input numbers.**"
      ]
    },
    {
      "cell_type": "code",
      "execution_count": null,
      "id": "a21cdabc",
      "metadata": {
        "id": "a21cdabc"
      },
      "outputs": [],
      "source": [
        "a = int(input(\"Enter first number: \"))\n",
        "b = int(input(\"Enter second number: \"))\n",
        "print(\"Addition:\", a + b)\n",
        "print(\"Subtraction:\", a - b)\n",
        "print(\"Multiplication:\", a * b)\n",
        "print(\"Division:\", a / b)"
      ]
    },
    {
      "cell_type": "markdown",
      "id": "eff55ef7",
      "metadata": {
        "id": "eff55ef7"
      },
      "source": [
        "**7. Write a program to demonstrate the use of logical operators.**"
      ]
    },
    {
      "cell_type": "code",
      "execution_count": null,
      "id": "31346b37",
      "metadata": {
        "id": "31346b37"
      },
      "outputs": [],
      "source": [
        "x = 10\n",
        "y = 20\n",
        "print(\"x > 5 and y > 15:\", x > 5 and y > 15)\n",
        "print(\"x > 15 or y > 15:\", x > 15 or y > 15)\n",
        "print(\"not(x > 5):\", not(x > 5))"
      ]
    },
    {
      "cell_type": "markdown",
      "id": "cdadd4eb",
      "metadata": {
        "id": "cdadd4eb"
      },
      "source": [
        "**8. Create a list and tuple in Python, and demonstrate how attempting to change an element works differently for each.**"
      ]
    },
    {
      "cell_type": "code",
      "execution_count": null,
      "id": "29845442",
      "metadata": {
        "id": "29845442"
      },
      "outputs": [],
      "source": [
        "my_list = [1, 2, 3]\n",
        "my_list[0] = 10  # allowed\n",
        "print(\"Modified list:\", my_list)\n",
        "\n",
        "my_tuple = (1, 2, 3)\n",
        "try:\n",
        "    my_tuple[0] = 10  # not allowed\n",
        "except TypeError as e:\n",
        "    print(\"Error modifying tuple:\", e)"
      ]
    },
    {
      "cell_type": "markdown",
      "id": "80376b32",
      "metadata": {
        "id": "80376b32"
      },
      "source": [
        "**9. Write a Python program to convert user input from string to integer, float, and boolean types.**"
      ]
    },
    {
      "cell_type": "code",
      "execution_count": null,
      "id": "1e99bf2a",
      "metadata": {
        "id": "1e99bf2a"
      },
      "outputs": [],
      "source": [
        "value = input(\"Enter a value: \")\n",
        "print(\"As string:\", value)\n",
        "print(\"As integer:\", int(value))\n",
        "print(\"As float:\", float(value))\n",
        "print(\"As boolean:\", bool(value))"
      ]
    },
    {
      "cell_type": "markdown",
      "id": "beed0c0b",
      "metadata": {
        "id": "beed0c0b"
      },
      "source": [
        "**10. Write code to demonstrate type casting with list elements.**"
      ]
    },
    {
      "cell_type": "code",
      "execution_count": null,
      "id": "c38a358f",
      "metadata": {
        "id": "c38a358f"
      },
      "outputs": [],
      "source": [
        "my_list = [\"1\", \"2\", \"3\"]\n",
        "int_list = list(map(int, my_list))\n",
        "print(\"Original list:\", my_list)\n",
        "print(\"After type casting to integers:\", int_list)"
      ]
    },
    {
      "cell_type": "markdown",
      "id": "46df5a2f",
      "metadata": {
        "id": "46df5a2f"
      },
      "source": [
        "**11. Write a program that checks if a number is positive, negative, or zero.**"
      ]
    },
    {
      "cell_type": "code",
      "execution_count": null,
      "id": "6f40aeb9",
      "metadata": {
        "id": "6f40aeb9"
      },
      "outputs": [],
      "source": [
        "num = int(input(\"Enter a number: \"))\n",
        "if num > 0:\n",
        "    print(\"Positive\")\n",
        "elif num < 0:\n",
        "    print(\"Negative\")\n",
        "else:\n",
        "    print(\"Zero\")"
      ]
    },
    {
      "cell_type": "markdown",
      "id": "0ca4c51e",
      "metadata": {
        "id": "0ca4c51e"
      },
      "source": [
        "**12. Write a for loop to print numbers from 1 to 10.**"
      ]
    },
    {
      "cell_type": "code",
      "execution_count": null,
      "id": "d0d7d949",
      "metadata": {
        "id": "d0d7d949"
      },
      "outputs": [],
      "source": [
        "for i in range(1, 11):\n",
        "    print(i)"
      ]
    },
    {
      "cell_type": "markdown",
      "id": "0e80937f",
      "metadata": {
        "id": "0e80937f"
      },
      "source": [
        "**13. Write a Python program to find the sum of all even numbers between 1 and 50.**"
      ]
    },
    {
      "cell_type": "code",
      "execution_count": 1,
      "id": "2430a2a4",
      "metadata": {
        "id": "2430a2a4",
        "outputId": "eba9ca17-ef11-442e-bb33-ba7a0a1e322a",
        "colab": {
          "base_uri": "https://localhost:8080/"
        }
      },
      "outputs": [
        {
          "output_type": "stream",
          "name": "stdout",
          "text": [
            "Sum of even numbers between 1 and 50: 650\n"
          ]
        }
      ],
      "source": [
        "total = 0\n",
        "for i in range(1, 51):\n",
        "    if i % 2 == 0:\n",
        "        total += i\n",
        "print(\"Sum of even numbers between 1 and 50:\", total)"
      ]
    },
    {
      "cell_type": "markdown",
      "id": "4ca00175",
      "metadata": {
        "id": "4ca00175"
      },
      "source": [
        "**14. Write a program to reverse a string using a while loop.**"
      ]
    },
    {
      "cell_type": "code",
      "execution_count": null,
      "id": "2e4e184e",
      "metadata": {
        "id": "2e4e184e"
      },
      "outputs": [],
      "source": [
        "s = input(\"Enter a string: \")\n",
        "reversed_str = \"\"\n",
        "i = len(s) - 1\n",
        "while i >= 0:\n",
        "    reversed_str += s[i]\n",
        "    i -= 1\n",
        "print(\"Reversed string:\", reversed_str)"
      ]
    },
    {
      "cell_type": "markdown",
      "id": "83ae8530",
      "metadata": {
        "id": "83ae8530"
      },
      "source": [
        "**15. Write a Python program to calculate the factorial of a number provided by the user using a while loop.**"
      ]
    },
    {
      "cell_type": "code",
      "execution_count": null,
      "id": "73853e7e",
      "metadata": {
        "id": "73853e7e"
      },
      "outputs": [],
      "source": [
        "num = int(input(\"Enter a number: \"))\n",
        "factorial = 1\n",
        "i = 1\n",
        "while i <= num:\n",
        "    factorial *= i\n",
        "    i += 1\n",
        "print(\"Factorial of\", num, \"is\", factorial)"
      ]
    }
  ],
  "metadata": {
    "colab": {
      "provenance": []
    },
    "language_info": {
      "name": "python"
    },
    "kernelspec": {
      "name": "python3",
      "display_name": "Python 3"
    }
  },
  "nbformat": 4,
  "nbformat_minor": 5
}