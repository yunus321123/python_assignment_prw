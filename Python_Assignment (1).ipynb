{
  "nbformat": 4,
  "nbformat_minor": 0,
  "metadata": {
    "colab": {
      "provenance": []
    },
    "kernelspec": {
      "name": "python3",
      "display_name": "Python 3"
    },
    "language_info": {
      "name": "python"
    }
  },
  "cells": [
    {
      "cell_type": "markdown",
      "source": [
        "\n",
        "# **Python Basics Questions**\n",
        "# 1. What is Python, and why is it popular\n",
        "  -Python is high level programming language ,uses for general purpose task. It is a interpreted programming language.it was developed by guido van rossum in 1991.\n",
        "  It is becoming so popular nowadays as it's simplicity ,robust support and already have too much built in library. it is being used in data science,web development ,mobile app development and cyber security\n",
        "# 2.What is an interpreter in Python\n",
        "  -An interpreter is a type of translator program that executes code line by line.\n",
        "\n",
        "In Python, the interpreter translates source code into bytecode and then executes it.\n",
        "\n",
        "Unlike a compiler, which converts the entire program at once, an interpreter executes the program step by step.\n",
        "\n",
        "# 3. What are pre-defined keywords in Python\n",
        "  -Pre-defined keywords in Python are the reserved words that have special meaning in the language.\n",
        "They are part of Python’s syntax and cannot be used as identifiers (like variable names, function names, or class names).\n",
        "\n",
        "Examples of Python keywords:\n",
        "if, else, while, for, def, class, import, return, True, False, None, break, continue\n",
        "\n",
        "Currently, Python has 35 keywords\n",
        "\n",
        "# 4. Can keywords be used as variable names\n",
        "  -No, keywords cannot be used as variable names in Python.\n",
        "\n",
        "Keywords are reserved words that have special meaning in the language syntax.\n",
        "\n",
        "Using them as variable names will result in a SyntaxError.\n",
        "  "
      ],
      "metadata": {
        "id": "cLS4WmuGIxtK"
      }
    },
    {
      "cell_type": "markdown",
      "source": [
        "# 5.What is mutability in Python\n",
        "Mutability means the ability of an object to be changed or modified after creation.\n",
        "\n",
        "In Python, some objects are mutable (can be modified) and some are immutable (cannot be modified once created).\n",
        "\n",
        "Examples:\n",
        "\n",
        "Mutable objects → list, dict, set\n",
        "\n",
        "# 6 Why are lists mutable, but tuples are immutable\n",
        "  -List is a mutable data type in Python, meaning we can change, add, or remove its elements after creation.\n",
        "\n",
        "Tuple is an immutable data type, meaning once it is created, its elements cannot be modified.\n",
        "\n",
        "Lists are meant for dynamic data where changes are required frequently.\n",
        "\n",
        "Lists allow in-place modifications → more flexible, but slightly slower.\n",
        "\n",
        "Tuples are meant for fixed data (like coordinates, constants) where immutability ensures safety and faster performance.\n",
        "Tuples being immutable → stored in a way that makes them hashable (can be used as keys in dictionaries) and more memory-efficient.\n",
        "\n",
        "# 7. What is the difference between “==” and “is” operators in Python\n",
        "  -  == (Equality operator):\n",
        "\n",
        "Compares the values of two objects.\n",
        "\n",
        "Returns True if the values are equal, even if they are different objects in memory.\n",
        "\n",
        "is (Identity operator):\n",
        "\n",
        "Compares the memory addresses (identity) of two objects.\n",
        "\n",
        "Returns True only if both variables point to the same object in memory.\n",
        "\n",
        "# 8. 8 What are logical operators in Python\n",
        "  -Logical operators are used to perform logical operations on Boolean values (True / False).\n",
        "In Python, there are three logical operators:\n",
        "\n",
        "and → Returns True if both conditions are true.\n",
        "\n",
        "or → Returns True if at least one condition is true.\n",
        "\n",
        "not → Returns the opposite Boolean value.\n",
        "\n",
        "\n",
        "\n"
      ],
      "metadata": {
        "id": "UeyePtLYOFjW"
      }
    },
    {
      "cell_type": "markdown",
      "source": [
        "# 9 What is type casting in Python\n",
        "  -Type casting in Python means converting one data type into another.\n",
        "\n",
        "Python provides built-in functions for type casting.\n",
        "\n",
        "It is of two types:\n",
        "\n",
        "    Implicit Type Casting (Type Conversion):\n",
        "\n",
        "Done automatically by Python.\n",
        "\n",
        "\n",
        "\n",
        "    Explicit Type Casting (Type Casting):\n",
        "\n",
        "Done manually using functions like:  \n",
        "     \n",
        "\n",
        "*    int()\n",
        "\n",
        "\n",
        "*   float()\n",
        "*   str()\n",
        "\n",
        "# 10. What is the difference between implicit and explicit type casting\n",
        "\n",
        "\n",
        "  -The difference between implicit and explicit type casting is that implicit type casting is done automatically by Python, while explicit type casting is done manually by using functions like int(), float(), or str().\n",
        "  \n",
        "\n",
        "\n",
        ""
      ],
      "metadata": {
        "id": "cGwvbMvuWE3d"
      }
    },
    {
      "cell_type": "markdown",
      "source": [
        "# 11. What is the purpose of conditional statements in Python\n",
        "  -Conditional statements in Python are used to execute different blocks of code based on whether a condition is true or false. They allow your program to make decisions and perform different actions depending on the state of the program. Common conditional statements include if, elif, and else.\n",
        "\n",
        "# 12. How does the elif statement work\n",
        "    The elif statement allows checking multiple conditions. It runs the first condition that evaluates to True and skips the rest.\n",
        "\n",
        "# 13.What is the difference between for and while loops\n",
        "  A for loop is typically used when you know the number of iterations beforehand or when iterating over a sequence (like a list, tuple, string, or range). A while loop is used when you don't know the exact number of iterations in advance and want to continue looping as long as a certain condition is true.\n",
        "#  14.Describe a scenario where a while loop is more suitable than a for loop.\n",
        "  A scenario where a while loop is more suitable than a for loop is when you need to repeatedly perform an action until a certain condition is met, and you don't know in advance how many times you'll need to perform that action. For example, you might use a while loop to keep asking a user for input until they provide valid data, or to process items from a queue until the queue is empty.\n",
        "\n"
      ],
      "metadata": {
        "id": "K-RJw1KoX7d1"
      }
    }
  ]
}